{
 "cells": [
  {
   "cell_type": "code",
   "execution_count": 20,
   "id": "24f0f807",
   "metadata": {},
   "outputs": [],
   "source": [
    "import pandas as pd\n",
    "from sklearn.linear_model import LogisticRegression\n",
    "from sklearn.neighbors import KNeighborsClassifier\n",
    "from sklearn.ensemble import RandomForestClassifier \n",
    "from sklearn.metrics import f1_score\n",
    "from sklearn.metrics import roc_auc_score\n",
    "from sklearn.metrics import precision_score\n",
    "from sklearn.metrics import recall_score\n",
    "from sklearn.metrics import accuracy_score\n",
    "import warnings\n",
    "warnings.filterwarnings(\"ignore\")"
   ]
  },
  {
   "cell_type": "code",
   "execution_count": 11,
   "id": "1d4352c6",
   "metadata": {},
   "outputs": [],
   "source": [
    "X_train = pd.read_csv(\"X_train.csv\") "
   ]
  },
  {
   "cell_type": "code",
   "execution_count": 12,
   "id": "63770ee0",
   "metadata": {},
   "outputs": [],
   "source": [
    "y_train = pd.read_csv(\"y_train.csv\") "
   ]
  },
  {
   "cell_type": "code",
   "execution_count": 13,
   "id": "90209f4b",
   "metadata": {},
   "outputs": [],
   "source": [
    "X_test = pd.read_csv(\"X_test.csv\") "
   ]
  },
  {
   "cell_type": "code",
   "execution_count": 14,
   "id": "515093b1",
   "metadata": {},
   "outputs": [],
   "source": [
    "y_test = pd.read_csv(\"y_test.csv\") "
   ]
  },
  {
   "cell_type": "code",
   "execution_count": 15,
   "id": "54e8fce8",
   "metadata": {},
   "outputs": [],
   "source": [
    "def evaluate_model(model, X_train, y_train, X_test, y_test):\n",
    "    model.fit(X_train, y_train)\n",
    "    y_train_pred = model.predict(X_train)\n",
    "    y_test_pred = model.predict(X_test)\n",
    "    df = pd.DataFrame({'Accuracy_train': [accuracy_score(y_train, y_train_pred)],\n",
    "                        'Accuracy_test': [accuracy_score(y_test, y_test_pred)],\n",
    "                        'Precision_train': [precision_score(y_train, y_train_pred)],\n",
    "                        'Precision_test': [precision_score(y_test, y_test_pred)],\n",
    "                        'Recall_train': [recall_score(y_train, y_train_pred)],\n",
    "                        'Recall_test': [recall_score(y_test, y_test_pred)],\n",
    "                        'f1_score_train': [f1_score(y_train, y_train_pred)],\n",
    "                        'f1_score_test': [f1_score(y_test, y_test_pred)],\n",
    "                        'Roc_auc_train': [roc_auc_score(y_train, y_train_pred)],\n",
    "                        'Roc_auc_test': [roc_auc_score(y_test, y_test_pred)],\n",
    "                      \n",
    "                      })\n",
    "    return df"
   ]
  },
  {
   "cell_type": "code",
   "execution_count": 16,
   "id": "a717df77",
   "metadata": {},
   "outputs": [],
   "source": [
    "models = {\n",
    "    'Logistic Regression': LogisticRegression(random_state=42),\n",
    "    'KNN':KNeighborsClassifier(),\n",
    "    'Random Forest':  RandomForestClassifier(random_state = 42),\n",
    "}"
   ]
  },
  {
   "cell_type": "code",
   "execution_count": 21,
   "id": "a41b2b5f",
   "metadata": {},
   "outputs": [],
   "source": [
    "# iterar a través del diccionario y evaluar cada modelo\n",
    "results = []\n",
    "for name, model in models.items():\n",
    "    model_results = evaluate_model(model, X_train, y_train, X_test, y_test)\n",
    "    model_results['model'] = name\n",
    "    results.append(model_results)"
   ]
  },
  {
   "cell_type": "code",
   "execution_count": 22,
   "id": "92822939",
   "metadata": {},
   "outputs": [],
   "source": [
    "resultados = pd.concat(results, axis=0).reset_index(drop=True)"
   ]
  },
  {
   "cell_type": "code",
   "execution_count": 23,
   "id": "4dc5a126",
   "metadata": {},
   "outputs": [
    {
     "data": {
      "text/html": [
       "<div>\n",
       "<style scoped>\n",
       "    .dataframe tbody tr th:only-of-type {\n",
       "        vertical-align: middle;\n",
       "    }\n",
       "\n",
       "    .dataframe tbody tr th {\n",
       "        vertical-align: top;\n",
       "    }\n",
       "\n",
       "    .dataframe thead th {\n",
       "        text-align: right;\n",
       "    }\n",
       "</style>\n",
       "<table border=\"1\" class=\"dataframe\">\n",
       "  <thead>\n",
       "    <tr style=\"text-align: right;\">\n",
       "      <th></th>\n",
       "      <th>Accuracy_train</th>\n",
       "      <th>Accuracy_test</th>\n",
       "      <th>Precision_train</th>\n",
       "      <th>Precision_test</th>\n",
       "      <th>Recall_train</th>\n",
       "      <th>Recall_test</th>\n",
       "      <th>f1_score_train</th>\n",
       "      <th>f1_score_test</th>\n",
       "      <th>Roc_auc_train</th>\n",
       "      <th>Roc_auc_test</th>\n",
       "      <th>model</th>\n",
       "    </tr>\n",
       "  </thead>\n",
       "  <tbody>\n",
       "    <tr>\n",
       "      <th>0</th>\n",
       "      <td>0.810214</td>\n",
       "      <td>0.805865</td>\n",
       "      <td>0.853608</td>\n",
       "      <td>0.854895</td>\n",
       "      <td>0.748054</td>\n",
       "      <td>0.740032</td>\n",
       "      <td>0.797352</td>\n",
       "      <td>0.793328</td>\n",
       "      <td>0.810105</td>\n",
       "      <td>0.806328</td>\n",
       "      <td>Logistic Regression</td>\n",
       "    </tr>\n",
       "    <tr>\n",
       "      <th>1</th>\n",
       "      <td>0.852708</td>\n",
       "      <td>0.795482</td>\n",
       "      <td>0.905435</td>\n",
       "      <td>0.852291</td>\n",
       "      <td>0.787108</td>\n",
       "      <td>0.718285</td>\n",
       "      <td>0.842135</td>\n",
       "      <td>0.779571</td>\n",
       "      <td>0.852594</td>\n",
       "      <td>0.796025</td>\n",
       "      <td>KNN</td>\n",
       "    </tr>\n",
       "    <tr>\n",
       "      <th>2</th>\n",
       "      <td>0.932223</td>\n",
       "      <td>0.785161</td>\n",
       "      <td>0.965689</td>\n",
       "      <td>0.807234</td>\n",
       "      <td>0.896044</td>\n",
       "      <td>0.753156</td>\n",
       "      <td>0.929564</td>\n",
       "      <td>0.779258</td>\n",
       "      <td>0.932160</td>\n",
       "      <td>0.785387</td>\n",
       "      <td>Random Forest</td>\n",
       "    </tr>\n",
       "  </tbody>\n",
       "</table>\n",
       "</div>"
      ],
      "text/plain": [
       "   Accuracy_train  Accuracy_test  Precision_train  Precision_test  \\\n",
       "0        0.810214       0.805865         0.853608        0.854895   \n",
       "1        0.852708       0.795482         0.905435        0.852291   \n",
       "2        0.932223       0.785161         0.965689        0.807234   \n",
       "\n",
       "   Recall_train  Recall_test  f1_score_train  f1_score_test  Roc_auc_train  \\\n",
       "0      0.748054     0.740032        0.797352       0.793328       0.810105   \n",
       "1      0.787108     0.718285        0.842135       0.779571       0.852594   \n",
       "2      0.896044     0.753156        0.929564       0.779258       0.932160   \n",
       "\n",
       "   Roc_auc_test                model  \n",
       "0      0.806328  Logistic Regression  \n",
       "1      0.796025                  KNN  \n",
       "2      0.785387        Random Forest  "
      ]
     },
     "execution_count": 23,
     "metadata": {},
     "output_type": "execute_result"
    }
   ],
   "source": [
    "resultados.sort_values(by='Accuracy_test', ascending=False)"
   ]
  }
 ],
 "metadata": {
  "kernelspec": {
   "display_name": "Python 3 (ipykernel)",
   "language": "python",
   "name": "python3"
  },
  "language_info": {
   "codemirror_mode": {
    "name": "ipython",
    "version": 3
   },
   "file_extension": ".py",
   "mimetype": "text/x-python",
   "name": "python",
   "nbconvert_exporter": "python",
   "pygments_lexer": "ipython3",
   "version": "3.9.13"
  }
 },
 "nbformat": 4,
 "nbformat_minor": 5
}
