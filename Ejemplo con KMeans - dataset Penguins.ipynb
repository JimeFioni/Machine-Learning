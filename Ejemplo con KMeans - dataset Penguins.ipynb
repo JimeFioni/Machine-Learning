{
 "cells": [
  {
   "cell_type": "code",
   "execution_count": 308,
   "id": "f9512178",
   "metadata": {},
   "outputs": [],
   "source": [
    "import pandas as pd\n",
    "import matplotlib.pyplot as plt\n",
    "import seaborn as sns\n",
    "from sklearn.cluster import KMeans\n",
    "from sklearn.preprocessing import StandardScaler\n",
    "    import warnings\n"
   ]
  },
  {
   "cell_type": "code",
   "execution_count": 309,
   "id": "7cec7f79",
   "metadata": {},
   "outputs": [],
   "source": [
    "warnings.filterwarnings(\"ignore\")"
   ]
  },
  {
   "cell_type": "code",
   "execution_count": 310,
   "id": "78c28f97",
   "metadata": {},
   "outputs": [
    {
     "data": {
      "text/html": [
       "<div>\n",
       "<style scoped>\n",
       "    .dataframe tbody tr th:only-of-type {\n",
       "        vertical-align: middle;\n",
       "    }\n",
       "\n",
       "    .dataframe tbody tr th {\n",
       "        vertical-align: top;\n",
       "    }\n",
       "\n",
       "    .dataframe thead th {\n",
       "        text-align: right;\n",
       "    }\n",
       "</style>\n",
       "<table border=\"1\" class=\"dataframe\">\n",
       "  <thead>\n",
       "    <tr style=\"text-align: right;\">\n",
       "      <th></th>\n",
       "      <th>culmen_length_mm</th>\n",
       "      <th>culmen_depth_mm</th>\n",
       "      <th>flipper_length_mm</th>\n",
       "      <th>body_mass_g</th>\n",
       "      <th>sex</th>\n",
       "    </tr>\n",
       "  </thead>\n",
       "  <tbody>\n",
       "    <tr>\n",
       "      <th>0</th>\n",
       "      <td>39.1</td>\n",
       "      <td>18.7</td>\n",
       "      <td>181.0</td>\n",
       "      <td>3750.0</td>\n",
       "      <td>MALE</td>\n",
       "    </tr>\n",
       "    <tr>\n",
       "      <th>1</th>\n",
       "      <td>39.5</td>\n",
       "      <td>17.4</td>\n",
       "      <td>186.0</td>\n",
       "      <td>3800.0</td>\n",
       "      <td>FEMALE</td>\n",
       "    </tr>\n",
       "    <tr>\n",
       "      <th>2</th>\n",
       "      <td>40.3</td>\n",
       "      <td>18.0</td>\n",
       "      <td>195.0</td>\n",
       "      <td>3250.0</td>\n",
       "      <td>FEMALE</td>\n",
       "    </tr>\n",
       "    <tr>\n",
       "      <th>3</th>\n",
       "      <td>NaN</td>\n",
       "      <td>NaN</td>\n",
       "      <td>NaN</td>\n",
       "      <td>NaN</td>\n",
       "      <td>NaN</td>\n",
       "    </tr>\n",
       "    <tr>\n",
       "      <th>4</th>\n",
       "      <td>36.7</td>\n",
       "      <td>19.3</td>\n",
       "      <td>193.0</td>\n",
       "      <td>3450.0</td>\n",
       "      <td>FEMALE</td>\n",
       "    </tr>\n",
       "  </tbody>\n",
       "</table>\n",
       "</div>"
      ],
      "text/plain": [
       "   culmen_length_mm  culmen_depth_mm  flipper_length_mm  body_mass_g     sex\n",
       "0              39.1             18.7              181.0       3750.0    MALE\n",
       "1              39.5             17.4              186.0       3800.0  FEMALE\n",
       "2              40.3             18.0              195.0       3250.0  FEMALE\n",
       "3               NaN              NaN                NaN          NaN     NaN\n",
       "4              36.7             19.3              193.0       3450.0  FEMALE"
      ]
     },
     "execution_count": 310,
     "metadata": {},
     "output_type": "execute_result"
    }
   ],
   "source": [
    "penguins_df = pd.read_csv(\"penguins.csv\")\n",
    "penguins_df.head()"
   ]
  },
  {
   "cell_type": "code",
   "execution_count": 311,
   "id": "d7d71394",
   "metadata": {},
   "outputs": [
    {
     "data": {
      "text/plain": [
       "(344, 5)"
      ]
     },
     "execution_count": 311,
     "metadata": {},
     "output_type": "execute_result"
    }
   ],
   "source": [
    "penguins_df.shape"
   ]
  },
  {
   "cell_type": "code",
   "execution_count": 312,
   "id": "9a7280dc",
   "metadata": {},
   "outputs": [
    {
     "data": {
      "text/plain": [
       "culmen_length_mm     float64\n",
       "culmen_depth_mm      float64\n",
       "flipper_length_mm    float64\n",
       "body_mass_g          float64\n",
       "sex                   object\n",
       "dtype: object"
      ]
     },
     "execution_count": 312,
     "metadata": {},
     "output_type": "execute_result"
    }
   ],
   "source": [
    "penguins_df.dtypes "
   ]
  },
  {
   "cell_type": "markdown",
   "id": "25a4fd8c",
   "metadata": {},
   "source": [
    "## Chequeo de nulos"
   ]
  },
  {
   "cell_type": "code",
   "execution_count": 313,
   "id": "7d6a9d7d",
   "metadata": {},
   "outputs": [
    {
     "data": {
      "text/plain": [
       "culmen_length_mm     2\n",
       "culmen_depth_mm      2\n",
       "flipper_length_mm    2\n",
       "body_mass_g          2\n",
       "sex                  9\n",
       "dtype: int64"
      ]
     },
     "execution_count": 313,
     "metadata": {},
     "output_type": "execute_result"
    }
   ],
   "source": [
    "penguins_df.isnull().sum()"
   ]
  },
  {
   "cell_type": "code",
   "execution_count": 314,
   "id": "ca5665e4",
   "metadata": {},
   "outputs": [],
   "source": [
    "penguins = penguins_df.dropna(axis=0)"
   ]
  },
  {
   "cell_type": "code",
   "execution_count": 315,
   "id": "04127afc",
   "metadata": {},
   "outputs": [
    {
     "data": {
      "text/plain": [
       "culmen_length_mm     0\n",
       "culmen_depth_mm      0\n",
       "flipper_length_mm    0\n",
       "body_mass_g          0\n",
       "sex                  0\n",
       "dtype: int64"
      ]
     },
     "execution_count": 315,
     "metadata": {},
     "output_type": "execute_result"
    }
   ],
   "source": [
    "penguins.isnull().sum()"
   ]
  },
  {
   "cell_type": "markdown",
   "id": "9d29faef",
   "metadata": {},
   "source": [
    "## Chequeo de duplicados"
   ]
  },
  {
   "cell_type": "code",
   "execution_count": 316,
   "id": "226244a9",
   "metadata": {},
   "outputs": [
    {
     "data": {
      "text/plain": [
       "0"
      ]
     },
     "execution_count": 316,
     "metadata": {},
     "output_type": "execute_result"
    }
   ],
   "source": [
    "penguins.duplicated().sum()"
   ]
  },
  {
   "cell_type": "markdown",
   "id": "357d54b8",
   "metadata": {},
   "source": [
    "## Detección de outliers"
   ]
  },
  {
   "cell_type": "code",
   "execution_count": 317,
   "id": "6e72519e",
   "metadata": {},
   "outputs": [
    {
     "data": {
      "image/png": "[encoded data removed]",
      "text/plain": [
       "<Figure size 1000x1000 with 4 Axes>"
      ]
     },
     "metadata": {},
     "output_type": "display_data"
    }
   ],
   "source": [
    "plt.figure(figsize = (10,10))\n",
    "for i,col in enumerate(['culmen_length_mm','culmen_depth_mm', 'flipper_length_mm','body_mass_g']):\n",
    "    plt.subplot(4,2,i+1)\n",
    "    sns.boxplot(x = col, data = penguins )\n",
    "plt.show()"
   ]
  },
  {
   "cell_type": "code",
   "execution_count": 318,
   "id": "60a100b4",
   "metadata": {},
   "outputs": [],
   "source": [
    "percentile25 = penguins['flipper_length_mm'].quantile(0.25)\n",
    "percentile75 = penguins['flipper_length_mm'].quantile(0.75)\n",
    "iqr = percentile75 - percentile25\n",
    "upper_limit = percentile75 + 1.5 * iqr\n",
    "lower_limit = percentile25 - 1.5 * iqr"
   ]
  },
  {
   "cell_type": "code",
   "execution_count": 319,
   "id": "1c491241",
   "metadata": {},
   "outputs": [
    {
     "data": {
      "text/plain": [
       "247.5"
      ]
     },
     "execution_count": 319,
     "metadata": {},
     "output_type": "execute_result"
    }
   ],
   "source": [
    "upper_limit"
   ]
  },
  {
   "cell_type": "code",
   "execution_count": 320,
   "id": "03c342fc",
   "metadata": {},
   "outputs": [
    {
     "data": {
      "text/plain": [
       "155.5"
      ]
     },
     "execution_count": 320,
     "metadata": {},
     "output_type": "execute_result"
    }
   ],
   "source": [
    "lower_limit"
   ]
  },
  {
   "cell_type": "code",
   "execution_count": 321,
   "id": "fe96f599",
   "metadata": {},
   "outputs": [
    {
     "data": {
      "text/html": [
       "<div>\n",
       "<style scoped>\n",
       "    .dataframe tbody tr th:only-of-type {\n",
       "        vertical-align: middle;\n",
       "    }\n",
       "\n",
       "    .dataframe tbody tr th {\n",
       "        vertical-align: top;\n",
       "    }\n",
       "\n",
       "    .dataframe thead th {\n",
       "        text-align: right;\n",
       "    }\n",
       "</style>\n",
       "<table border=\"1\" class=\"dataframe\">\n",
       "  <thead>\n",
       "    <tr style=\"text-align: right;\">\n",
       "      <th></th>\n",
       "      <th>culmen_length_mm</th>\n",
       "      <th>culmen_depth_mm</th>\n",
       "      <th>flipper_length_mm</th>\n",
       "      <th>body_mass_g</th>\n",
       "      <th>sex</th>\n",
       "    </tr>\n",
       "  </thead>\n",
       "  <tbody>\n",
       "    <tr>\n",
       "      <th>9</th>\n",
       "      <td>42.0</td>\n",
       "      <td>20.2</td>\n",
       "      <td>5000.0</td>\n",
       "      <td>4250.0</td>\n",
       "      <td>MALE</td>\n",
       "    </tr>\n",
       "  </tbody>\n",
       "</table>\n",
       "</div>"
      ],
      "text/plain": [
       "   culmen_length_mm  culmen_depth_mm  flipper_length_mm  body_mass_g   sex\n",
       "9              42.0             20.2             5000.0       4250.0  MALE"
      ]
     },
     "execution_count": 321,
     "metadata": {},
     "output_type": "execute_result"
    }
   ],
   "source": [
    "penguins[penguins['flipper_length_mm'] > upper_limit]"
   ]
  },
  {
   "cell_type": "code",
   "execution_count": 322,
   "id": "6584d438",
   "metadata": {},
   "outputs": [
    {
     "data": {
      "text/html": [
       "<div>\n",
       "<style scoped>\n",
       "    .dataframe tbody tr th:only-of-type {\n",
       "        vertical-align: middle;\n",
       "    }\n",
       "\n",
       "    .dataframe tbody tr th {\n",
       "        vertical-align: top;\n",
       "    }\n",
       "\n",
       "    .dataframe thead th {\n",
       "        text-align: right;\n",
       "    }\n",
       "</style>\n",
       "<table border=\"1\" class=\"dataframe\">\n",
       "  <thead>\n",
       "    <tr style=\"text-align: right;\">\n",
       "      <th></th>\n",
       "      <th>culmen_length_mm</th>\n",
       "      <th>culmen_depth_mm</th>\n",
       "      <th>flipper_length_mm</th>\n",
       "      <th>body_mass_g</th>\n",
       "      <th>sex</th>\n",
       "    </tr>\n",
       "  </thead>\n",
       "  <tbody>\n",
       "    <tr>\n",
       "      <th>14</th>\n",
       "      <td>34.6</td>\n",
       "      <td>21.1</td>\n",
       "      <td>-132.0</td>\n",
       "      <td>4400.0</td>\n",
       "      <td>MALE</td>\n",
       "    </tr>\n",
       "  </tbody>\n",
       "</table>\n",
       "</div>"
      ],
      "text/plain": [
       "    culmen_length_mm  culmen_depth_mm  flipper_length_mm  body_mass_g   sex\n",
       "14              34.6             21.1             -132.0       4400.0  MALE"
      ]
     },
     "execution_count": 322,
     "metadata": {},
     "output_type": "execute_result"
    }
   ],
   "source": [
    "penguins[penguins['flipper_length_mm'] < lower_limit]"
   ]
  },
  {
   "cell_type": "code",
   "execution_count": 323,
   "id": "387c106c",
   "metadata": {},
   "outputs": [],
   "source": [
    "penguins1 = penguins[(penguins['flipper_length_mm'] < upper_limit) & (penguins['flipper_length_mm'] >  lower_limit)]\n"
   ]
  },
  {
   "cell_type": "code",
   "execution_count": 324,
   "id": "1cca841f",
   "metadata": {},
   "outputs": [
    {
     "data": {
      "text/plain": [
       "(333, 5)"
      ]
     },
     "execution_count": 324,
     "metadata": {},
     "output_type": "execute_result"
    }
   ],
   "source": [
    "penguins1.shape"
   ]
  },
  {
   "cell_type": "code",
   "execution_count": 325,
   "id": "95992933",
   "metadata": {},
   "outputs": [
    {
     "data": {
      "image/png": "[encoded data removed]",
      "text/plain": [
       "<Figure size 1600x800 with 2 Axes>"
      ]
     },
     "metadata": {},
     "output_type": "display_data"
    }
   ],
   "source": [
    "#Check\n",
    "plt.figure(figsize=(16,8))\n",
    "plt.subplot(2,2,1)\n",
    "sns.boxplot(penguins['flipper_length_mm'])\n",
    "plt.subplot(2,2,2)\n",
    "sns.boxplot(penguins1['flipper_length_mm'])\n",
    "plt.show()"
   ]
  },
  {
   "cell_type": "markdown",
   "id": "cb9d20ff",
   "metadata": {},
   "source": [
    "## Variables categóricas"
   ]
  },
  {
   "cell_type": "code",
   "execution_count": 326,
   "id": "be6f7cb8",
   "metadata": {},
   "outputs": [
    {
     "data": {
      "text/html": [
       "<div>\n",
       "<style scoped>\n",
       "    .dataframe tbody tr th:only-of-type {\n",
       "        vertical-align: middle;\n",
       "    }\n",
       "\n",
       "    .dataframe tbody tr th {\n",
       "        vertical-align: top;\n",
       "    }\n",
       "\n",
       "    .dataframe thead th {\n",
       "        text-align: right;\n",
       "    }\n",
       "</style>\n",
       "<table border=\"1\" class=\"dataframe\">\n",
       "  <thead>\n",
       "    <tr style=\"text-align: right;\">\n",
       "      <th></th>\n",
       "      <th>culmen_length_mm</th>\n",
       "      <th>culmen_depth_mm</th>\n",
       "      <th>flipper_length_mm</th>\n",
       "      <th>body_mass_g</th>\n",
       "      <th>sex_MALE</th>\n",
       "    </tr>\n",
       "  </thead>\n",
       "  <tbody>\n",
       "    <tr>\n",
       "      <th>0</th>\n",
       "      <td>39.1</td>\n",
       "      <td>18.7</td>\n",
       "      <td>181.0</td>\n",
       "      <td>3750.0</td>\n",
       "      <td>1</td>\n",
       "    </tr>\n",
       "    <tr>\n",
       "      <th>1</th>\n",
       "      <td>39.5</td>\n",
       "      <td>17.4</td>\n",
       "      <td>186.0</td>\n",
       "      <td>3800.0</td>\n",
       "      <td>0</td>\n",
       "    </tr>\n",
       "    <tr>\n",
       "      <th>2</th>\n",
       "      <td>40.3</td>\n",
       "      <td>18.0</td>\n",
       "      <td>195.0</td>\n",
       "      <td>3250.0</td>\n",
       "      <td>0</td>\n",
       "    </tr>\n",
       "    <tr>\n",
       "      <th>4</th>\n",
       "      <td>36.7</td>\n",
       "      <td>19.3</td>\n",
       "      <td>193.0</td>\n",
       "      <td>3450.0</td>\n",
       "      <td>0</td>\n",
       "    </tr>\n",
       "    <tr>\n",
       "      <th>5</th>\n",
       "      <td>39.3</td>\n",
       "      <td>20.6</td>\n",
       "      <td>190.0</td>\n",
       "      <td>3650.0</td>\n",
       "      <td>1</td>\n",
       "    </tr>\n",
       "  </tbody>\n",
       "</table>\n",
       "</div>"
      ],
      "text/plain": [
       "   culmen_length_mm  culmen_depth_mm  flipper_length_mm  body_mass_g  sex_MALE\n",
       "0              39.1             18.7              181.0       3750.0         1\n",
       "1              39.5             17.4              186.0       3800.0         0\n",
       "2              40.3             18.0              195.0       3250.0         0\n",
       "4              36.7             19.3              193.0       3450.0         0\n",
       "5              39.3             20.6              190.0       3650.0         1"
      ]
     },
     "execution_count": 326,
     "metadata": {},
     "output_type": "execute_result"
    }
   ],
   "source": [
    "df = pd.get_dummies(penguins1 , drop_first  = True).drop(\"sex_FEMALE\", axis=1)\n",
    "df.head()"
   ]
  },
  {
   "cell_type": "markdown",
   "id": "92d41a65",
   "metadata": {},
   "source": [
    "## Scaling"
   ]
  },
  {
   "cell_type": "code",
   "execution_count": 327,
   "id": "c6626526",
   "metadata": {},
   "outputs": [
    {
     "data": {
      "text/html": [
       "<div>\n",
       "<style scoped>\n",
       "    .dataframe tbody tr th:only-of-type {\n",
       "        vertical-align: middle;\n",
       "    }\n",
       "\n",
       "    .dataframe tbody tr th {\n",
       "        vertical-align: top;\n",
       "    }\n",
       "\n",
       "    .dataframe thead th {\n",
       "        text-align: right;\n",
       "    }\n",
       "</style>\n",
       "<table border=\"1\" class=\"dataframe\">\n",
       "  <thead>\n",
       "    <tr style=\"text-align: right;\">\n",
       "      <th></th>\n",
       "      <th>culmen_length_mm</th>\n",
       "      <th>culmen_depth_mm</th>\n",
       "      <th>flipper_length_mm</th>\n",
       "      <th>body_mass_g</th>\n",
       "      <th>sex_MALE</th>\n",
       "    </tr>\n",
       "  </thead>\n",
       "  <tbody>\n",
       "    <tr>\n",
       "      <th>0</th>\n",
       "      <td>-0.905520</td>\n",
       "      <td>0.793126</td>\n",
       "      <td>-1.428125</td>\n",
       "      <td>-0.569709</td>\n",
       "      <td>0.997001</td>\n",
       "    </tr>\n",
       "    <tr>\n",
       "      <th>1</th>\n",
       "      <td>-0.831938</td>\n",
       "      <td>0.128503</td>\n",
       "      <td>-1.071522</td>\n",
       "      <td>-0.507579</td>\n",
       "      <td>-1.003008</td>\n",
       "    </tr>\n",
       "    <tr>\n",
       "      <th>2</th>\n",
       "      <td>-0.684775</td>\n",
       "      <td>0.435252</td>\n",
       "      <td>-0.429637</td>\n",
       "      <td>-1.191006</td>\n",
       "      <td>-1.003008</td>\n",
       "    </tr>\n",
       "    <tr>\n",
       "      <th>3</th>\n",
       "      <td>-1.347011</td>\n",
       "      <td>1.099875</td>\n",
       "      <td>-0.572278</td>\n",
       "      <td>-0.942487</td>\n",
       "      <td>-1.003008</td>\n",
       "    </tr>\n",
       "    <tr>\n",
       "      <th>4</th>\n",
       "      <td>-0.868729</td>\n",
       "      <td>1.764498</td>\n",
       "      <td>-0.786240</td>\n",
       "      <td>-0.693968</td>\n",
       "      <td>0.997001</td>\n",
       "    </tr>\n",
       "    <tr>\n",
       "      <th>5</th>\n",
       "      <td>-0.942311</td>\n",
       "      <td>0.333002</td>\n",
       "      <td>-1.428125</td>\n",
       "      <td>-0.725033</td>\n",
       "      <td>-1.003008</td>\n",
       "    </tr>\n",
       "    <tr>\n",
       "      <th>6</th>\n",
       "      <td>-0.887125</td>\n",
       "      <td>1.253249</td>\n",
       "      <td>-0.429637</td>\n",
       "      <td>0.579691</td>\n",
       "      <td>0.997001</td>\n",
       "    </tr>\n",
       "    <tr>\n",
       "      <th>7</th>\n",
       "      <td>-0.537611</td>\n",
       "      <td>0.230753</td>\n",
       "      <td>-1.356804</td>\n",
       "      <td>-1.253136</td>\n",
       "      <td>-1.003008</td>\n",
       "    </tr>\n",
       "    <tr>\n",
       "      <th>8</th>\n",
       "      <td>-0.997497</td>\n",
       "      <td>2.071247</td>\n",
       "      <td>-0.714919</td>\n",
       "      <td>-0.507579</td>\n",
       "      <td>0.997001</td>\n",
       "    </tr>\n",
       "    <tr>\n",
       "      <th>9</th>\n",
       "      <td>-1.365406</td>\n",
       "      <td>0.333002</td>\n",
       "      <td>-1.142843</td>\n",
       "      <td>-0.631839</td>\n",
       "      <td>-1.003008</td>\n",
       "    </tr>\n",
       "  </tbody>\n",
       "</table>\n",
       "</div>"
      ],
      "text/plain": [
       "   culmen_length_mm  culmen_depth_mm  flipper_length_mm  body_mass_g  sex_MALE\n",
       "0         -0.905520         0.793126          -1.428125    -0.569709  0.997001\n",
       "1         -0.831938         0.128503          -1.071522    -0.507579 -1.003008\n",
       "2         -0.684775         0.435252          -0.429637    -1.191006 -1.003008\n",
       "3         -1.347011         1.099875          -0.572278    -0.942487 -1.003008\n",
       "4         -0.868729         1.764498          -0.786240    -0.693968  0.997001\n",
       "5         -0.942311         0.333002          -1.428125    -0.725033 -1.003008\n",
       "6         -0.887125         1.253249          -0.429637     0.579691  0.997001\n",
       "7         -0.537611         0.230753          -1.356804    -1.253136 -1.003008\n",
       "8         -0.997497         2.071247          -0.714919    -0.507579  0.997001\n",
       "9         -1.365406         0.333002          -1.142843    -0.631839 -1.003008"
      ]
     },
     "execution_count": 327,
     "metadata": {},
     "output_type": "execute_result"
    }
   ],
   "source": [
    "scaler = StandardScaler()\n",
    "X = scaler.fit_transform(df)\n",
    "penguins_preprocessed = pd.DataFrame(data=X, columns=df.columns)\n",
    "penguins_preprocessed.head(10)"
   ]
  },
  {
   "cell_type": "markdown",
   "id": "3285956c",
   "metadata": {},
   "source": [
    "## PCA"
   ]
  },
  {
   "cell_type": "code",
   "execution_count": 328,
   "id": "b4ccf03c",
   "metadata": {},
   "outputs": [],
   "source": [
    "pca = PCA()\n",
    "penguins_PCA = pca.fit_transform(penguins_preprocessed)"
   ]
  },
  {
   "cell_type": "code",
   "execution_count": 329,
   "id": "2c39fc53",
   "metadata": {},
   "outputs": [
    {
     "data": {
      "text/plain": [
       "array([0.56775484, 0.28184749, 0.09627279, 0.03425014, 0.01987475])"
      ]
     },
     "execution_count": 329,
     "metadata": {},
     "output_type": "execute_result"
    }
   ],
   "source": [
    "#Análisis de la varianza explicada para cada componente\n",
    "explained_variance = pca.explained_variance_ratio_\n",
    "explained_variance"
   ]
  },
  {
   "cell_type": "markdown",
   "id": "b101f5e8",
   "metadata": {},
   "source": [
    "## Detectar el número óptimo de grupos "
   ]
  },
  {
   "cell_type": "code",
   "execution_count": 330,
   "id": "4f79d3e6",
   "metadata": {},
   "outputs": [
    {
     "data": {
      "image/png": "[encoded data removed]",
      "text/plain": [
       "<Figure size 640x480 with 1 Axes>"
      ]
     },
     "metadata": {},
     "output_type": "display_data"
    }
   ],
   "source": [
    "inertia = []\n",
    "for k in range(1, 10):\n",
    "    kmeans = KMeans(n_clusters=k, random_state=42).fit(penguins_PCA)\n",
    "    inertia.append(kmeans.inertia_)\n",
    "plt.plot(range(1, 10), inertia, marker=\"o\")\n",
    "plt.xlabel(\"Number of clusters\")\n",
    "plt.ylabel(\"Inertia\")\n",
    "plt.title(\"Elbow Method\")\n",
    "plt.show()\n"
   ]
  },
  {
   "cell_type": "markdown",
   "id": "f6c645ff",
   "metadata": {},
   "source": [
    "## Model Building - KMeans"
   ]
  },
  {
   "cell_type": "code",
   "execution_count": 331,
   "id": "2547b055",
   "metadata": {},
   "outputs": [],
   "source": [
    "n_clusters=4"
   ]
  },
  {
   "cell_type": "code",
   "execution_count": 332,
   "id": "b1e41179",
   "metadata": {},
   "outputs": [
    {
     "data": {
      "image/png": "[encoded data removed]",
      "text/plain": [
       "<Figure size 640x480 with 1 Axes>"
      ]
     },
     "metadata": {},
     "output_type": "display_data"
    }
   ],
   "source": [
    "kmeans = KMeans(n_clusters=n_clusters, random_state=42).fit(penguins_PCA)\n",
    "plt.scatter(penguins_PCA[:, 0], penguins_PCA[:, 1], c=kmeans.labels_, cmap=\"viridis\")\n",
    "plt.xlabel(\"First Principal Component\")\n",
    "plt.ylabel(\"Second Principal Component\")\n",
    "plt.title(f\"K-means Clustering (K={n_clusters})\")\n",
    "plt.show()"
   ]
  },
  {
   "cell_type": "code",
   "execution_count": 333,
   "id": "8cf937b9",
   "metadata": {},
   "outputs": [
    {
     "name": "stdout",
     "output_type": "stream",
     "text": [
      "For k = 2, the average silhouette score is 0.44\n",
      "For k = 3, the average silhouette score is 0.45\n",
      "For k = 4, the average silhouette score is 0.51\n",
      "For k = 5, the average silhouette score is 0.52\n",
      "For k = 6, the average silhouette score is 0.52\n",
      "For k = 7, the average silhouette score is 0.48\n",
      "For k = 8, the average silhouette score is 0.42\n",
      "For k = 9, the average silhouette score is 0.36\n"
     ]
    }
   ],
   "source": [
    "from sklearn.metrics import silhouette_score\n",
    "for k in range(2, 10):\n",
    "    kmeans = KMeans(n_clusters=k, random_state=42)\n",
    "    kmeans.fit(penguins_PCA)\n",
    "    labels = kmeans.labels_\n",
    "    silhouette_avg = silhouette_score(X, labels)\n",
    "    print(f\"For k = {k}, the average silhouette score is {silhouette_avg:.2f}\")"
   ]
  },
  {
   "cell_type": "markdown",
   "id": "8aa873b8",
   "metadata": {},
   "source": [
    "**El método de Silhouette se utiliza para evaluar la calidad de la agrupación resultante de un algoritmo como K-Means, donde valores más altos de Silhouette indican una mejor separación entre los grupos.**"
   ]
  },
  {
   "cell_type": "markdown",
   "id": "7d54a825",
   "metadata": {},
   "source": [
    "## by María Belen Camandone"
   ]
  }
 ],
 "metadata": {
  "kernelspec": {
   "display_name": "Python 3 (ipykernel)",
   "language": "python",
   "name": "python3"
  },
  "language_info": {
   "codemirror_mode": {
    "name": "ipython",
    "version": 3
   },
   "file_extension": ".py",
   "mimetype": "text/x-python",
   "name": "python",
   "nbconvert_exporter": "python",
   "pygments_lexer": "ipython3",
   "version": "3.11.4"
  }
 },
 "nbformat": 4,
 "nbformat_minor": 5
}
